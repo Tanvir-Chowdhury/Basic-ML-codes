{
  "nbformat": 4,
  "nbformat_minor": 0,
  "metadata": {
    "colab": {
      "provenance": [],
      "authorship_tag": "ABX9TyNHo/YepZsRciR2RjtIRh/m",
      "include_colab_link": true
    },
    "kernelspec": {
      "name": "python3",
      "display_name": "Python 3"
    },
    "language_info": {
      "name": "python"
    }
  },
  "cells": [
    {
      "cell_type": "markdown",
      "metadata": {
        "id": "view-in-github",
        "colab_type": "text"
      },
      "source": [
        "<a href=\"https://colab.research.google.com/github/Tanvir-Chowdhury/Placement-Prediction-Model/blob/main/basic_code_for_ML_to_understand_data.ipynb\" target=\"_parent\"><img src=\"https://colab.research.google.com/assets/colab-badge.svg\" alt=\"Open In Colab\"/></a>"
      ]
    },
    {
      "cell_type": "markdown",
      "source": [
        "#**Working with CSV**"
      ],
      "metadata": {
        "id": "1XamZKRbIcgh"
      }
    },
    {
      "cell_type": "markdown",
      "source": [
        "##Import csv files from local PC\n"
      ],
      "metadata": {
        "id": "okVwSywUFrgw"
      }
    },
    {
      "cell_type": "code",
      "source": [
        "import pandas as pd\n",
        "\n",
        "df = pd.read_csv(\"\")"
      ],
      "metadata": {
        "id": "kFsC_k_rFbbx"
      },
      "execution_count": null,
      "outputs": []
    },
    {
      "cell_type": "markdown",
      "source": [
        "##Import CSV from URL"
      ],
      "metadata": {
        "id": "zeamqRtIFxo3"
      }
    },
    {
      "cell_type": "code",
      "execution_count": null,
      "metadata": {
        "id": "plraeVgwEhmM"
      },
      "outputs": [],
      "source": [
        "import requests\n",
        "from io import StringIO\n",
        "\n",
        "url =  \"\"\n",
        "headers = {\"User-Agent\": \"Mozilla/5.0 (Macintosh; Intel Mac OS X 10.14; rv:66.0) Gecko/20100101 Firefox/66.0\"}\n",
        "req = requests.get(url, headers = headers)\n",
        "data = StringIO(req.text)\n",
        "\n",
        "pd = read_csv(data)"
      ]
    },
    {
      "cell_type": "markdown",
      "source": [
        "##Import Tab seperated file not comma seperated"
      ],
      "metadata": {
        "id": "F6a2CLtfF2gX"
      }
    },
    {
      "cell_type": "code",
      "source": [
        "df = pd.read_csv(\"\", sep= \"\\t\")"
      ],
      "metadata": {
        "id": "P2MOj4YAFgyQ"
      },
      "execution_count": null,
      "outputs": []
    },
    {
      "cell_type": "markdown",
      "source": [
        "##Import file that does not have headers"
      ],
      "metadata": {
        "id": "JKwELJldFxRn"
      }
    },
    {
      "cell_type": "code",
      "source": [
        "df = pd.read_csv(\"\", sep= \"\\t\", names=['', '', ''])"
      ],
      "metadata": {
        "id": "Xz0G3EhZGMym"
      },
      "execution_count": null,
      "outputs": []
    },
    {
      "cell_type": "markdown",
      "source": [
        "##Change the index column"
      ],
      "metadata": {
        "id": "TUg2sxfgGSf1"
      }
    },
    {
      "cell_type": "code",
      "source": [
        "df = pd.read_csv(\"\", index_col = 'Column name')"
      ],
      "metadata": {
        "id": "HWRZ7paGGjDd"
      },
      "execution_count": null,
      "outputs": []
    },
    {
      "cell_type": "markdown",
      "source": [
        "##Make the first column header"
      ],
      "metadata": {
        "id": "gKPr1ec8GiSd"
      }
    },
    {
      "cell_type": "code",
      "source": [
        "df = pd.read_csv(\"\", header = 1)"
      ],
      "metadata": {
        "id": "lQSj_UqWIKdX"
      },
      "execution_count": null,
      "outputs": []
    },
    {
      "cell_type": "markdown",
      "source": [
        "##Select some columns"
      ],
      "metadata": {
        "id": "V9TZ8tDnIONJ"
      }
    },
    {
      "cell_type": "code",
      "source": [
        "df = pd.read_csv(\"\", usecols = ['', ''])"
      ],
      "metadata": {
        "id": "N7BajdkfIUK_"
      },
      "execution_count": null,
      "outputs": []
    },
    {
      "cell_type": "markdown",
      "source": [
        "##Skip some rows"
      ],
      "metadata": {
        "id": "8VizVdeeIaHI"
      }
    },
    {
      "cell_type": "code",
      "source": [
        "df = pd.read_csv(\"\", skiprows = [0,1])"
      ],
      "metadata": {
        "id": "ht66UAlwJ1Ci"
      },
      "execution_count": null,
      "outputs": []
    },
    {
      "cell_type": "markdown",
      "source": [
        "##Show only n number of rows"
      ],
      "metadata": {
        "id": "6VEiOsKRJ53D"
      }
    },
    {
      "cell_type": "code",
      "source": [
        "df = pd.read_csv(\"\", nrows = 100)"
      ],
      "metadata": {
        "id": "T2FVxpTAKmMR"
      },
      "execution_count": null,
      "outputs": []
    },
    {
      "cell_type": "markdown",
      "source": [
        "##if the file is encoded with another encoder"
      ],
      "metadata": {
        "id": "dP-zxb1ZKb2K"
      }
    },
    {
      "cell_type": "code",
      "source": [
        "df = pd.read_csv(\"\", encoding = '')"
      ],
      "metadata": {
        "id": "8EJ915QSKbT5"
      },
      "execution_count": null,
      "outputs": []
    },
    {
      "cell_type": "markdown",
      "source": [
        "##Skip bad lines in tables\n"
      ],
      "metadata": {
        "id": "r1rkG1NoQi5o"
      }
    },
    {
      "cell_type": "code",
      "source": [
        "df = pd.read_csv(\"\", encoding = '', error_bad_lines = False)"
      ],
      "metadata": {
        "id": "e-C_VbBVXAeM"
      },
      "execution_count": null,
      "outputs": []
    },
    {
      "cell_type": "markdown",
      "source": [
        "##Convert datatypses\n"
      ],
      "metadata": {
        "id": "moK0w3SBYCFw"
      }
    },
    {
      "cell_type": "code",
      "source": [
        "df = pd.read_csv(\"\", encoding = '', dtype = {'target': int})"
      ],
      "metadata": {
        "id": "sk4hC8tZYIF0"
      },
      "execution_count": null,
      "outputs": []
    },
    {
      "cell_type": "markdown",
      "source": [
        "##Handling dates"
      ],
      "metadata": {
        "id": "QC_sp9-CYfD-"
      }
    },
    {
      "cell_type": "code",
      "source": [
        "df = pd.read_csv(\"\", parse_dates = ['date_column'])"
      ],
      "metadata": {
        "id": "ulpYTkR1ZBuS"
      },
      "execution_count": null,
      "outputs": []
    },
    {
      "cell_type": "markdown",
      "source": [
        "##Rename each data from column"
      ],
      "metadata": {
        "id": "sGukJYI9ZJG0"
      }
    },
    {
      "cell_type": "code",
      "source": [
        "def rename(name):\n",
        "  if name == 'data':\n",
        "    return 'new_data'\n",
        "  else:\n",
        "    return name\n",
        "\n",
        "\n",
        "df = pd.read_csv(\"\", converters = {'column_name': rename})"
      ],
      "metadata": {
        "id": "-RJsWcnmZrXv"
      },
      "execution_count": null,
      "outputs": []
    },
    {
      "cell_type": "markdown",
      "source": [
        "##Missing values handling (NaN, -)"
      ],
      "metadata": {
        "id": "63XTUVONaC9v"
      }
    },
    {
      "cell_type": "code",
      "source": [
        "df = pd.read_csv(\"\", na_values = ['NaN'])"
      ],
      "metadata": {
        "id": "sKXARu6SaM2m"
      },
      "execution_count": null,
      "outputs": []
    },
    {
      "cell_type": "markdown",
      "source": [
        "##Loading a huge dataset in chunks"
      ],
      "metadata": {
        "id": "6FX7jVF_aVm7"
      }
    },
    {
      "cell_type": "code",
      "source": [
        "dfs = pd.read_csv(\"\", chunksize = 5000)\n",
        "\n",
        "for df in dfs:\n",
        "  df"
      ],
      "metadata": {
        "id": "x1--wK2eaY1p"
      },
      "execution_count": null,
      "outputs": []
    },
    {
      "cell_type": "markdown",
      "source": [
        "#**Working with JSON/SQL**"
      ],
      "metadata": {
        "id": "TLtGX-ewawdS"
      }
    },
    {
      "cell_type": "markdown",
      "source": [
        "##Import JSON from local PC"
      ],
      "metadata": {
        "id": "ZLQ9mRZXdZIp"
      }
    },
    {
      "cell_type": "code",
      "source": [
        " import pandas as pd\n",
        " df = pd.read_json('')"
      ],
      "metadata": {
        "id": "UC8AeNGpbAkz"
      },
      "execution_count": null,
      "outputs": []
    },
    {
      "cell_type": "markdown",
      "source": [
        "##Import JSON from URL"
      ],
      "metadata": {
        "id": "vMerja1ydb08"
      }
    },
    {
      "cell_type": "code",
      "source": [
        "df = pd.read_json('URL')"
      ],
      "metadata": {
        "id": "aSpvz5TedsGb"
      },
      "execution_count": null,
      "outputs": []
    },
    {
      "cell_type": "markdown",
      "source": [
        "##Import SQL\n",
        "\n",
        "1. Download XAMPP\n",
        "2. Go to localhost/phpmyadmin\n",
        "3. Create new database\n",
        "4. Import sql data\n",
        "\n",
        "\n"
      ],
      "metadata": {
        "id": "hIKegxEUdm9j"
      }
    },
    {
      "cell_type": "code",
      "source": [
        "!pip install mysql.connector"
      ],
      "metadata": {
        "colab": {
          "base_uri": "https://localhost:8080/"
        },
        "id": "P5DHX3bgee5z",
        "outputId": "1567ca91-2152-4999-ef3e-00f4e5ce6983"
      },
      "execution_count": null,
      "outputs": [
        {
          "output_type": "stream",
          "name": "stdout",
          "text": [
            "Collecting mysql.connector\n",
            "  Downloading mysql-connector-2.2.9.tar.gz (11.9 MB)\n",
            "\u001b[2K     \u001b[90m━━━━━━━━━━━━━━━━━━━━━━━━━━━━━━━━━━━━━━━━\u001b[0m \u001b[32m11.9/11.9 MB\u001b[0m \u001b[31m60.3 MB/s\u001b[0m eta \u001b[36m0:00:00\u001b[0m\n",
            "\u001b[?25h  Preparing metadata (setup.py) ... \u001b[?25l\u001b[?25hdone\n",
            "Building wheels for collected packages: mysql.connector\n",
            "  Building wheel for mysql.connector (setup.py) ... \u001b[?25l\u001b[?25hdone\n",
            "  Created wheel for mysql.connector: filename=mysql_connector-2.2.9-cp311-cp311-linux_x86_64.whl size=247949 sha256=f4a60b6dbe4ffa4f604600d9a564aa4a3519e6952333e591701d51b41efcc285\n",
            "  Stored in directory: /root/.cache/pip/wheels/17/cd/ed/2d49e9bac69cf09382e4c7cc20a2511202b48324b87db26019\n",
            "Successfully built mysql.connector\n",
            "Installing collected packages: mysql.connector\n",
            "Successfully installed mysql.connector-2.2.9\n"
          ]
        }
      ]
    },
    {
      "cell_type": "code",
      "source": [
        "import mysql.connector\n",
        "\n",
        "conn = mysql.connector.connect(host = 'localhost', user='root', password = '', database = 'database_name')\n",
        "\n",
        "pd.read_sql_query(\"SELECT * FROM table\", conn)"
      ],
      "metadata": {
        "id": "kMWi_OJGdmgb"
      },
      "execution_count": null,
      "outputs": []
    },
    {
      "cell_type": "markdown",
      "source": [
        "#**Fetching Data from API**"
      ],
      "metadata": {
        "id": "54DJwyn3fUI7"
      }
    },
    {
      "cell_type": "code",
      "source": [
        "import pandas as pd\n",
        "import requests\n",
        "\n",
        "response = requests.get('API URL')\n",
        "df = pd.DataFrame(response.json()[''])[['', '']]\n"
      ],
      "metadata": {
        "id": "BPMwtlUwfZ-E"
      },
      "execution_count": null,
      "outputs": []
    },
    {
      "cell_type": "markdown",
      "source": [
        "#**Understanding Data**"
      ],
      "metadata": {
        "id": "AH0jI9mA4Ahj"
      }
    },
    {
      "cell_type": "markdown",
      "source": [
        "##How big is the data?"
      ],
      "metadata": {
        "id": "jl27DrES4Hgw"
      }
    },
    {
      "cell_type": "code",
      "source": [
        "df.shape()"
      ],
      "metadata": {
        "id": "Gpj5TZ6E0rS7"
      },
      "execution_count": null,
      "outputs": []
    },
    {
      "cell_type": "markdown",
      "source": [
        "##How does the data look\n"
      ],
      "metadata": {
        "id": "8ozf7iS4O31f"
      }
    },
    {
      "cell_type": "code",
      "source": [
        "df.head()\n",
        "df.sample(5) #random"
      ],
      "metadata": {
        "id": "hE4MRkwEO8GE"
      },
      "execution_count": null,
      "outputs": []
    },
    {
      "cell_type": "markdown",
      "source": [
        "##What is the data type of cols?"
      ],
      "metadata": {
        "id": "8WOfBZVvO-SX"
      }
    },
    {
      "cell_type": "code",
      "source": [
        "df.info()"
      ],
      "metadata": {
        "id": "bg5aN-zqPLla"
      },
      "execution_count": null,
      "outputs": []
    },
    {
      "cell_type": "markdown",
      "source": [
        "##Are there any missing values?"
      ],
      "metadata": {
        "id": "0psib1SvPOVX"
      }
    },
    {
      "cell_type": "code",
      "source": [
        "df.isnull().sum()"
      ],
      "metadata": {
        "id": "16I--WMnPT4J"
      },
      "execution_count": null,
      "outputs": []
    },
    {
      "cell_type": "markdown",
      "source": [
        "##How does the data look mathematically"
      ],
      "metadata": {
        "id": "Fjj1wbArPbvl"
      }
    },
    {
      "cell_type": "code",
      "source": [
        "df.describe()"
      ],
      "metadata": {
        "id": "jik7IVBtPfHS"
      },
      "execution_count": null,
      "outputs": []
    },
    {
      "cell_type": "markdown",
      "source": [
        "##Are there any duplicate values"
      ],
      "metadata": {
        "id": "NPElYTVVPk3M"
      }
    },
    {
      "cell_type": "code",
      "source": [
        "df.duplicated().sum()"
      ],
      "metadata": {
        "id": "MUjkyPZRPpKo"
      },
      "execution_count": null,
      "outputs": []
    },
    {
      "cell_type": "markdown",
      "source": [
        "##How is the correlation between cols?"
      ],
      "metadata": {
        "id": "xwTsGVOzPz6L"
      }
    },
    {
      "cell_type": "code",
      "source": [
        "df.corr() #Pearson correlation\n",
        "df.corr()['column name'] #column to others correlation"
      ],
      "metadata": {
        "id": "dK30IU7NP3d_"
      },
      "execution_count": null,
      "outputs": []
    }
  ]
}